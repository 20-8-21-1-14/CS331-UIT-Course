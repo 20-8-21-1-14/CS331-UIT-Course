{
  "nbformat": 4,
  "nbformat_minor": 0,
  "metadata": {
    "colab": {
      "name": "Face_feature_extract_with_pytorch.ipynb",
      "provenance": [],
      "collapsed_sections": [],
      "toc_visible": true
    },
    "kernelspec": {
      "name": "python3",
      "display_name": "Python 3"
    },
    "language_info": {
      "name": "python"
    },
    "accelerator": "GPU",
    "widgets": {
      "application/vnd.jupyter.widget-state+json": {
        "637e8890d85b4ef2a14e8ae5e9646fee": {
          "model_module": "@jupyter-widgets/controls",
          "model_name": "HBoxModel",
          "model_module_version": "1.5.0",
          "state": {
            "_dom_classes": [],
            "_model_module": "@jupyter-widgets/controls",
            "_model_module_version": "1.5.0",
            "_model_name": "HBoxModel",
            "_view_count": null,
            "_view_module": "@jupyter-widgets/controls",
            "_view_module_version": "1.5.0",
            "_view_name": "HBoxView",
            "box_style": "",
            "children": [
              "IPY_MODEL_ed2819daee78411fadbe20be6bbccf82",
              "IPY_MODEL_bab8ebc958184cab9eb35e23db5cb8bc",
              "IPY_MODEL_07353c917b2e47e9a8b2220a422be39b"
            ],
            "layout": "IPY_MODEL_0bbf03143ffd40c9af90232d770122ee"
          }
        },
        "ed2819daee78411fadbe20be6bbccf82": {
          "model_module": "@jupyter-widgets/controls",
          "model_name": "HTMLModel",
          "model_module_version": "1.5.0",
          "state": {
            "_dom_classes": [],
            "_model_module": "@jupyter-widgets/controls",
            "_model_module_version": "1.5.0",
            "_model_name": "HTMLModel",
            "_view_count": null,
            "_view_module": "@jupyter-widgets/controls",
            "_view_module_version": "1.5.0",
            "_view_name": "HTMLView",
            "description": "",
            "description_tooltip": null,
            "layout": "IPY_MODEL_a72a290ce4d2400382c72c91fbcf4504",
            "placeholder": "​",
            "style": "IPY_MODEL_ff8befeeca2849ca88eae2adad2cd7fe",
            "value": "100%"
          }
        },
        "bab8ebc958184cab9eb35e23db5cb8bc": {
          "model_module": "@jupyter-widgets/controls",
          "model_name": "FloatProgressModel",
          "model_module_version": "1.5.0",
          "state": {
            "_dom_classes": [],
            "_model_module": "@jupyter-widgets/controls",
            "_model_module_version": "1.5.0",
            "_model_name": "FloatProgressModel",
            "_view_count": null,
            "_view_module": "@jupyter-widgets/controls",
            "_view_module_version": "1.5.0",
            "_view_name": "ProgressView",
            "bar_style": "success",
            "description": "",
            "description_tooltip": null,
            "layout": "IPY_MODEL_a698c67110fb422fa5118d2389b670d1",
            "max": 111898327,
            "min": 0,
            "orientation": "horizontal",
            "style": "IPY_MODEL_64897ba4e1694cfb9eed91055feab60f",
            "value": 111898327
          }
        },
        "07353c917b2e47e9a8b2220a422be39b": {
          "model_module": "@jupyter-widgets/controls",
          "model_name": "HTMLModel",
          "model_module_version": "1.5.0",
          "state": {
            "_dom_classes": [],
            "_model_module": "@jupyter-widgets/controls",
            "_model_module_version": "1.5.0",
            "_model_name": "HTMLModel",
            "_view_count": null,
            "_view_module": "@jupyter-widgets/controls",
            "_view_module_version": "1.5.0",
            "_view_name": "HTMLView",
            "description": "",
            "description_tooltip": null,
            "layout": "IPY_MODEL_67f481d6444146ea87c7c6b7e9407de5",
            "placeholder": "​",
            "style": "IPY_MODEL_8727d95ef65b419a9cbef464658d53e4",
            "value": " 107M/107M [00:02&lt;00:00, 32.2MB/s]"
          }
        },
        "0bbf03143ffd40c9af90232d770122ee": {
          "model_module": "@jupyter-widgets/base",
          "model_name": "LayoutModel",
          "model_module_version": "1.2.0",
          "state": {
            "_model_module": "@jupyter-widgets/base",
            "_model_module_version": "1.2.0",
            "_model_name": "LayoutModel",
            "_view_count": null,
            "_view_module": "@jupyter-widgets/base",
            "_view_module_version": "1.2.0",
            "_view_name": "LayoutView",
            "align_content": null,
            "align_items": null,
            "align_self": null,
            "border": null,
            "bottom": null,
            "display": null,
            "flex": null,
            "flex_flow": null,
            "grid_area": null,
            "grid_auto_columns": null,
            "grid_auto_flow": null,
            "grid_auto_rows": null,
            "grid_column": null,
            "grid_gap": null,
            "grid_row": null,
            "grid_template_areas": null,
            "grid_template_columns": null,
            "grid_template_rows": null,
            "height": null,
            "justify_content": null,
            "justify_items": null,
            "left": null,
            "margin": null,
            "max_height": null,
            "max_width": null,
            "min_height": null,
            "min_width": null,
            "object_fit": null,
            "object_position": null,
            "order": null,
            "overflow": null,
            "overflow_x": null,
            "overflow_y": null,
            "padding": null,
            "right": null,
            "top": null,
            "visibility": null,
            "width": null
          }
        },
        "a72a290ce4d2400382c72c91fbcf4504": {
          "model_module": "@jupyter-widgets/base",
          "model_name": "LayoutModel",
          "model_module_version": "1.2.0",
          "state": {
            "_model_module": "@jupyter-widgets/base",
            "_model_module_version": "1.2.0",
            "_model_name": "LayoutModel",
            "_view_count": null,
            "_view_module": "@jupyter-widgets/base",
            "_view_module_version": "1.2.0",
            "_view_name": "LayoutView",
            "align_content": null,
            "align_items": null,
            "align_self": null,
            "border": null,
            "bottom": null,
            "display": null,
            "flex": null,
            "flex_flow": null,
            "grid_area": null,
            "grid_auto_columns": null,
            "grid_auto_flow": null,
            "grid_auto_rows": null,
            "grid_column": null,
            "grid_gap": null,
            "grid_row": null,
            "grid_template_areas": null,
            "grid_template_columns": null,
            "grid_template_rows": null,
            "height": null,
            "justify_content": null,
            "justify_items": null,
            "left": null,
            "margin": null,
            "max_height": null,
            "max_width": null,
            "min_height": null,
            "min_width": null,
            "object_fit": null,
            "object_position": null,
            "order": null,
            "overflow": null,
            "overflow_x": null,
            "overflow_y": null,
            "padding": null,
            "right": null,
            "top": null,
            "visibility": null,
            "width": null
          }
        },
        "ff8befeeca2849ca88eae2adad2cd7fe": {
          "model_module": "@jupyter-widgets/controls",
          "model_name": "DescriptionStyleModel",
          "model_module_version": "1.5.0",
          "state": {
            "_model_module": "@jupyter-widgets/controls",
            "_model_module_version": "1.5.0",
            "_model_name": "DescriptionStyleModel",
            "_view_count": null,
            "_view_module": "@jupyter-widgets/base",
            "_view_module_version": "1.2.0",
            "_view_name": "StyleView",
            "description_width": ""
          }
        },
        "a698c67110fb422fa5118d2389b670d1": {
          "model_module": "@jupyter-widgets/base",
          "model_name": "LayoutModel",
          "model_module_version": "1.2.0",
          "state": {
            "_model_module": "@jupyter-widgets/base",
            "_model_module_version": "1.2.0",
            "_model_name": "LayoutModel",
            "_view_count": null,
            "_view_module": "@jupyter-widgets/base",
            "_view_module_version": "1.2.0",
            "_view_name": "LayoutView",
            "align_content": null,
            "align_items": null,
            "align_self": null,
            "border": null,
            "bottom": null,
            "display": null,
            "flex": null,
            "flex_flow": null,
            "grid_area": null,
            "grid_auto_columns": null,
            "grid_auto_flow": null,
            "grid_auto_rows": null,
            "grid_column": null,
            "grid_gap": null,
            "grid_row": null,
            "grid_template_areas": null,
            "grid_template_columns": null,
            "grid_template_rows": null,
            "height": null,
            "justify_content": null,
            "justify_items": null,
            "left": null,
            "margin": null,
            "max_height": null,
            "max_width": null,
            "min_height": null,
            "min_width": null,
            "object_fit": null,
            "object_position": null,
            "order": null,
            "overflow": null,
            "overflow_x": null,
            "overflow_y": null,
            "padding": null,
            "right": null,
            "top": null,
            "visibility": null,
            "width": null
          }
        },
        "64897ba4e1694cfb9eed91055feab60f": {
          "model_module": "@jupyter-widgets/controls",
          "model_name": "ProgressStyleModel",
          "model_module_version": "1.5.0",
          "state": {
            "_model_module": "@jupyter-widgets/controls",
            "_model_module_version": "1.5.0",
            "_model_name": "ProgressStyleModel",
            "_view_count": null,
            "_view_module": "@jupyter-widgets/base",
            "_view_module_version": "1.2.0",
            "_view_name": "StyleView",
            "bar_color": null,
            "description_width": ""
          }
        },
        "67f481d6444146ea87c7c6b7e9407de5": {
          "model_module": "@jupyter-widgets/base",
          "model_name": "LayoutModel",
          "model_module_version": "1.2.0",
          "state": {
            "_model_module": "@jupyter-widgets/base",
            "_model_module_version": "1.2.0",
            "_model_name": "LayoutModel",
            "_view_count": null,
            "_view_module": "@jupyter-widgets/base",
            "_view_module_version": "1.2.0",
            "_view_name": "LayoutView",
            "align_content": null,
            "align_items": null,
            "align_self": null,
            "border": null,
            "bottom": null,
            "display": null,
            "flex": null,
            "flex_flow": null,
            "grid_area": null,
            "grid_auto_columns": null,
            "grid_auto_flow": null,
            "grid_auto_rows": null,
            "grid_column": null,
            "grid_gap": null,
            "grid_row": null,
            "grid_template_areas": null,
            "grid_template_columns": null,
            "grid_template_rows": null,
            "height": null,
            "justify_content": null,
            "justify_items": null,
            "left": null,
            "margin": null,
            "max_height": null,
            "max_width": null,
            "min_height": null,
            "min_width": null,
            "object_fit": null,
            "object_position": null,
            "order": null,
            "overflow": null,
            "overflow_x": null,
            "overflow_y": null,
            "padding": null,
            "right": null,
            "top": null,
            "visibility": null,
            "width": null
          }
        },
        "8727d95ef65b419a9cbef464658d53e4": {
          "model_module": "@jupyter-widgets/controls",
          "model_name": "DescriptionStyleModel",
          "model_module_version": "1.5.0",
          "state": {
            "_model_module": "@jupyter-widgets/controls",
            "_model_module_version": "1.5.0",
            "_model_name": "DescriptionStyleModel",
            "_view_count": null,
            "_view_module": "@jupyter-widgets/base",
            "_view_module_version": "1.2.0",
            "_view_name": "StyleView",
            "description_width": ""
          }
        }
      }
    }
  },
  "cells": [
    {
      "cell_type": "code",
      "source": [
        "!pip install facenet-pytorch"
      ],
      "metadata": {
        "colab": {
          "base_uri": "https://localhost:8080/"
        },
        "id": "1UirX3frUAEZ",
        "outputId": "9a557e8d-8d6c-47c1-996f-20ae3d7aef4b"
      },
      "execution_count": 1,
      "outputs": [
        {
          "output_type": "stream",
          "name": "stdout",
          "text": [
            "Collecting facenet-pytorch\n",
            "  Downloading facenet_pytorch-2.5.2-py3-none-any.whl (1.9 MB)\n",
            "\u001b[?25l\r\u001b[K     |▏                               | 10 kB 23.4 MB/s eta 0:00:01\r\u001b[K     |▍                               | 20 kB 22.9 MB/s eta 0:00:01\r\u001b[K     |▌                               | 30 kB 12.7 MB/s eta 0:00:01\r\u001b[K     |▊                               | 40 kB 10.5 MB/s eta 0:00:01\r\u001b[K     |▉                               | 51 kB 4.8 MB/s eta 0:00:01\r\u001b[K     |█                               | 61 kB 5.6 MB/s eta 0:00:01\r\u001b[K     |█▏                              | 71 kB 6.2 MB/s eta 0:00:01\r\u001b[K     |█▍                              | 81 kB 6.3 MB/s eta 0:00:01\r\u001b[K     |█▋                              | 92 kB 7.0 MB/s eta 0:00:01\r\u001b[K     |█▊                              | 102 kB 5.7 MB/s eta 0:00:01\r\u001b[K     |██                              | 112 kB 5.7 MB/s eta 0:00:01\r\u001b[K     |██                              | 122 kB 5.7 MB/s eta 0:00:01\r\u001b[K     |██▎                             | 133 kB 5.7 MB/s eta 0:00:01\r\u001b[K     |██▍                             | 143 kB 5.7 MB/s eta 0:00:01\r\u001b[K     |██▋                             | 153 kB 5.7 MB/s eta 0:00:01\r\u001b[K     |██▉                             | 163 kB 5.7 MB/s eta 0:00:01\r\u001b[K     |███                             | 174 kB 5.7 MB/s eta 0:00:01\r\u001b[K     |███▏                            | 184 kB 5.7 MB/s eta 0:00:01\r\u001b[K     |███▎                            | 194 kB 5.7 MB/s eta 0:00:01\r\u001b[K     |███▌                            | 204 kB 5.7 MB/s eta 0:00:01\r\u001b[K     |███▋                            | 215 kB 5.7 MB/s eta 0:00:01\r\u001b[K     |███▉                            | 225 kB 5.7 MB/s eta 0:00:01\r\u001b[K     |████                            | 235 kB 5.7 MB/s eta 0:00:01\r\u001b[K     |████▏                           | 245 kB 5.7 MB/s eta 0:00:01\r\u001b[K     |████▍                           | 256 kB 5.7 MB/s eta 0:00:01\r\u001b[K     |████▌                           | 266 kB 5.7 MB/s eta 0:00:01\r\u001b[K     |████▊                           | 276 kB 5.7 MB/s eta 0:00:01\r\u001b[K     |████▉                           | 286 kB 5.7 MB/s eta 0:00:01\r\u001b[K     |█████                           | 296 kB 5.7 MB/s eta 0:00:01\r\u001b[K     |█████▏                          | 307 kB 5.7 MB/s eta 0:00:01\r\u001b[K     |█████▍                          | 317 kB 5.7 MB/s eta 0:00:01\r\u001b[K     |█████▋                          | 327 kB 5.7 MB/s eta 0:00:01\r\u001b[K     |█████▊                          | 337 kB 5.7 MB/s eta 0:00:01\r\u001b[K     |██████                          | 348 kB 5.7 MB/s eta 0:00:01\r\u001b[K     |██████                          | 358 kB 5.7 MB/s eta 0:00:01\r\u001b[K     |██████▎                         | 368 kB 5.7 MB/s eta 0:00:01\r\u001b[K     |██████▍                         | 378 kB 5.7 MB/s eta 0:00:01\r\u001b[K     |██████▋                         | 389 kB 5.7 MB/s eta 0:00:01\r\u001b[K     |██████▉                         | 399 kB 5.7 MB/s eta 0:00:01\r\u001b[K     |███████                         | 409 kB 5.7 MB/s eta 0:00:01\r\u001b[K     |███████▏                        | 419 kB 5.7 MB/s eta 0:00:01\r\u001b[K     |███████▎                        | 430 kB 5.7 MB/s eta 0:00:01\r\u001b[K     |███████▌                        | 440 kB 5.7 MB/s eta 0:00:01\r\u001b[K     |███████▋                        | 450 kB 5.7 MB/s eta 0:00:01\r\u001b[K     |███████▉                        | 460 kB 5.7 MB/s eta 0:00:01\r\u001b[K     |████████                        | 471 kB 5.7 MB/s eta 0:00:01\r\u001b[K     |████████▏                       | 481 kB 5.7 MB/s eta 0:00:01\r\u001b[K     |████████▍                       | 491 kB 5.7 MB/s eta 0:00:01\r\u001b[K     |████████▌                       | 501 kB 5.7 MB/s eta 0:00:01\r\u001b[K     |████████▊                       | 512 kB 5.7 MB/s eta 0:00:01\r\u001b[K     |████████▉                       | 522 kB 5.7 MB/s eta 0:00:01\r\u001b[K     |█████████                       | 532 kB 5.7 MB/s eta 0:00:01\r\u001b[K     |█████████▎                      | 542 kB 5.7 MB/s eta 0:00:01\r\u001b[K     |█████████▍                      | 552 kB 5.7 MB/s eta 0:00:01\r\u001b[K     |█████████▋                      | 563 kB 5.7 MB/s eta 0:00:01\r\u001b[K     |█████████▊                      | 573 kB 5.7 MB/s eta 0:00:01\r\u001b[K     |██████████                      | 583 kB 5.7 MB/s eta 0:00:01\r\u001b[K     |██████████                      | 593 kB 5.7 MB/s eta 0:00:01\r\u001b[K     |██████████▎                     | 604 kB 5.7 MB/s eta 0:00:01\r\u001b[K     |██████████▍                     | 614 kB 5.7 MB/s eta 0:00:01\r\u001b[K     |██████████▋                     | 624 kB 5.7 MB/s eta 0:00:01\r\u001b[K     |██████████▉                     | 634 kB 5.7 MB/s eta 0:00:01\r\u001b[K     |███████████                     | 645 kB 5.7 MB/s eta 0:00:01\r\u001b[K     |███████████▏                    | 655 kB 5.7 MB/s eta 0:00:01\r\u001b[K     |███████████▎                    | 665 kB 5.7 MB/s eta 0:00:01\r\u001b[K     |███████████▌                    | 675 kB 5.7 MB/s eta 0:00:01\r\u001b[K     |███████████▋                    | 686 kB 5.7 MB/s eta 0:00:01\r\u001b[K     |███████████▉                    | 696 kB 5.7 MB/s eta 0:00:01\r\u001b[K     |████████████                    | 706 kB 5.7 MB/s eta 0:00:01\r\u001b[K     |████████████▏                   | 716 kB 5.7 MB/s eta 0:00:01\r\u001b[K     |████████████▍                   | 727 kB 5.7 MB/s eta 0:00:01\r\u001b[K     |████████████▌                   | 737 kB 5.7 MB/s eta 0:00:01\r\u001b[K     |████████████▊                   | 747 kB 5.7 MB/s eta 0:00:01\r\u001b[K     |████████████▉                   | 757 kB 5.7 MB/s eta 0:00:01\r\u001b[K     |█████████████                   | 768 kB 5.7 MB/s eta 0:00:01\r\u001b[K     |█████████████▎                  | 778 kB 5.7 MB/s eta 0:00:01\r\u001b[K     |█████████████▍                  | 788 kB 5.7 MB/s eta 0:00:01\r\u001b[K     |█████████████▋                  | 798 kB 5.7 MB/s eta 0:00:01\r\u001b[K     |█████████████▊                  | 808 kB 5.7 MB/s eta 0:00:01\r\u001b[K     |██████████████                  | 819 kB 5.7 MB/s eta 0:00:01\r\u001b[K     |██████████████                  | 829 kB 5.7 MB/s eta 0:00:01\r\u001b[K     |██████████████▎                 | 839 kB 5.7 MB/s eta 0:00:01\r\u001b[K     |██████████████▌                 | 849 kB 5.7 MB/s eta 0:00:01\r\u001b[K     |██████████████▋                 | 860 kB 5.7 MB/s eta 0:00:01\r\u001b[K     |██████████████▉                 | 870 kB 5.7 MB/s eta 0:00:01\r\u001b[K     |███████████████                 | 880 kB 5.7 MB/s eta 0:00:01\r\u001b[K     |███████████████▏                | 890 kB 5.7 MB/s eta 0:00:01\r\u001b[K     |███████████████▎                | 901 kB 5.7 MB/s eta 0:00:01\r\u001b[K     |███████████████▌                | 911 kB 5.7 MB/s eta 0:00:01\r\u001b[K     |███████████████▋                | 921 kB 5.7 MB/s eta 0:00:01\r\u001b[K     |███████████████▉                | 931 kB 5.7 MB/s eta 0:00:01\r\u001b[K     |████████████████                | 942 kB 5.7 MB/s eta 0:00:01\r\u001b[K     |████████████████▏               | 952 kB 5.7 MB/s eta 0:00:01\r\u001b[K     |████████████████▍               | 962 kB 5.7 MB/s eta 0:00:01\r\u001b[K     |████████████████▌               | 972 kB 5.7 MB/s eta 0:00:01\r\u001b[K     |████████████████▊               | 983 kB 5.7 MB/s eta 0:00:01\r\u001b[K     |████████████████▉               | 993 kB 5.7 MB/s eta 0:00:01\r\u001b[K     |█████████████████               | 1.0 MB 5.7 MB/s eta 0:00:01\r\u001b[K     |█████████████████▎              | 1.0 MB 5.7 MB/s eta 0:00:01\r\u001b[K     |█████████████████▍              | 1.0 MB 5.7 MB/s eta 0:00:01\r\u001b[K     |█████████████████▋              | 1.0 MB 5.7 MB/s eta 0:00:01\r\u001b[K     |█████████████████▊              | 1.0 MB 5.7 MB/s eta 0:00:01\r\u001b[K     |██████████████████              | 1.1 MB 5.7 MB/s eta 0:00:01\r\u001b[K     |██████████████████              | 1.1 MB 5.7 MB/s eta 0:00:01\r\u001b[K     |██████████████████▎             | 1.1 MB 5.7 MB/s eta 0:00:01\r\u001b[K     |██████████████████▌             | 1.1 MB 5.7 MB/s eta 0:00:01\r\u001b[K     |██████████████████▋             | 1.1 MB 5.7 MB/s eta 0:00:01\r\u001b[K     |██████████████████▉             | 1.1 MB 5.7 MB/s eta 0:00:01\r\u001b[K     |███████████████████             | 1.1 MB 5.7 MB/s eta 0:00:01\r\u001b[K     |███████████████████▏            | 1.1 MB 5.7 MB/s eta 0:00:01\r\u001b[K     |███████████████████▎            | 1.1 MB 5.7 MB/s eta 0:00:01\r\u001b[K     |███████████████████▌            | 1.1 MB 5.7 MB/s eta 0:00:01\r\u001b[K     |███████████████████▋            | 1.2 MB 5.7 MB/s eta 0:00:01\r\u001b[K     |███████████████████▉            | 1.2 MB 5.7 MB/s eta 0:00:01\r\u001b[K     |████████████████████            | 1.2 MB 5.7 MB/s eta 0:00:01\r\u001b[K     |████████████████████▏           | 1.2 MB 5.7 MB/s eta 0:00:01\r\u001b[K     |████████████████████▍           | 1.2 MB 5.7 MB/s eta 0:00:01\r\u001b[K     |████████████████████▌           | 1.2 MB 5.7 MB/s eta 0:00:01\r\u001b[K     |████████████████████▊           | 1.2 MB 5.7 MB/s eta 0:00:01\r\u001b[K     |████████████████████▉           | 1.2 MB 5.7 MB/s eta 0:00:01\r\u001b[K     |█████████████████████           | 1.2 MB 5.7 MB/s eta 0:00:01\r\u001b[K     |█████████████████████▎          | 1.2 MB 5.7 MB/s eta 0:00:01\r\u001b[K     |█████████████████████▍          | 1.3 MB 5.7 MB/s eta 0:00:01\r\u001b[K     |█████████████████████▋          | 1.3 MB 5.7 MB/s eta 0:00:01\r\u001b[K     |█████████████████████▊          | 1.3 MB 5.7 MB/s eta 0:00:01\r\u001b[K     |██████████████████████          | 1.3 MB 5.7 MB/s eta 0:00:01\r\u001b[K     |██████████████████████          | 1.3 MB 5.7 MB/s eta 0:00:01\r\u001b[K     |██████████████████████▎         | 1.3 MB 5.7 MB/s eta 0:00:01\r\u001b[K     |██████████████████████▌         | 1.3 MB 5.7 MB/s eta 0:00:01\r\u001b[K     |██████████████████████▋         | 1.3 MB 5.7 MB/s eta 0:00:01\r\u001b[K     |██████████████████████▉         | 1.3 MB 5.7 MB/s eta 0:00:01\r\u001b[K     |███████████████████████         | 1.4 MB 5.7 MB/s eta 0:00:01\r\u001b[K     |███████████████████████▏        | 1.4 MB 5.7 MB/s eta 0:00:01\r\u001b[K     |███████████████████████▎        | 1.4 MB 5.7 MB/s eta 0:00:01\r\u001b[K     |███████████████████████▌        | 1.4 MB 5.7 MB/s eta 0:00:01\r\u001b[K     |███████████████████████▊        | 1.4 MB 5.7 MB/s eta 0:00:01\r\u001b[K     |███████████████████████▉        | 1.4 MB 5.7 MB/s eta 0:00:01\r\u001b[K     |████████████████████████        | 1.4 MB 5.7 MB/s eta 0:00:01\r\u001b[K     |████████████████████████▏       | 1.4 MB 5.7 MB/s eta 0:00:01\r\u001b[K     |████████████████████████▍       | 1.4 MB 5.7 MB/s eta 0:00:01\r\u001b[K     |████████████████████████▌       | 1.4 MB 5.7 MB/s eta 0:00:01\r\u001b[K     |████████████████████████▊       | 1.5 MB 5.7 MB/s eta 0:00:01\r\u001b[K     |████████████████████████▉       | 1.5 MB 5.7 MB/s eta 0:00:01\r\u001b[K     |█████████████████████████       | 1.5 MB 5.7 MB/s eta 0:00:01\r\u001b[K     |█████████████████████████▎      | 1.5 MB 5.7 MB/s eta 0:00:01\r\u001b[K     |█████████████████████████▍      | 1.5 MB 5.7 MB/s eta 0:00:01\r\u001b[K     |█████████████████████████▋      | 1.5 MB 5.7 MB/s eta 0:00:01\r\u001b[K     |█████████████████████████▊      | 1.5 MB 5.7 MB/s eta 0:00:01\r\u001b[K     |██████████████████████████      | 1.5 MB 5.7 MB/s eta 0:00:01\r\u001b[K     |██████████████████████████      | 1.5 MB 5.7 MB/s eta 0:00:01\r\u001b[K     |██████████████████████████▎     | 1.5 MB 5.7 MB/s eta 0:00:01\r\u001b[K     |██████████████████████████▌     | 1.6 MB 5.7 MB/s eta 0:00:01\r\u001b[K     |██████████████████████████▋     | 1.6 MB 5.7 MB/s eta 0:00:01\r\u001b[K     |██████████████████████████▉     | 1.6 MB 5.7 MB/s eta 0:00:01\r\u001b[K     |███████████████████████████     | 1.6 MB 5.7 MB/s eta 0:00:01\r\u001b[K     |███████████████████████████▏    | 1.6 MB 5.7 MB/s eta 0:00:01\r\u001b[K     |███████████████████████████▎    | 1.6 MB 5.7 MB/s eta 0:00:01\r\u001b[K     |███████████████████████████▌    | 1.6 MB 5.7 MB/s eta 0:00:01\r\u001b[K     |███████████████████████████▊    | 1.6 MB 5.7 MB/s eta 0:00:01\r\u001b[K     |███████████████████████████▉    | 1.6 MB 5.7 MB/s eta 0:00:01\r\u001b[K     |████████████████████████████    | 1.6 MB 5.7 MB/s eta 0:00:01\r\u001b[K     |████████████████████████████▏   | 1.7 MB 5.7 MB/s eta 0:00:01\r\u001b[K     |████████████████████████████▍   | 1.7 MB 5.7 MB/s eta 0:00:01\r\u001b[K     |████████████████████████████▌   | 1.7 MB 5.7 MB/s eta 0:00:01\r\u001b[K     |████████████████████████████▊   | 1.7 MB 5.7 MB/s eta 0:00:01\r\u001b[K     |█████████████████████████████   | 1.7 MB 5.7 MB/s eta 0:00:01\r\u001b[K     |█████████████████████████████   | 1.7 MB 5.7 MB/s eta 0:00:01\r\u001b[K     |█████████████████████████████▎  | 1.7 MB 5.7 MB/s eta 0:00:01\r\u001b[K     |█████████████████████████████▍  | 1.7 MB 5.7 MB/s eta 0:00:01\r\u001b[K     |█████████████████████████████▋  | 1.7 MB 5.7 MB/s eta 0:00:01\r\u001b[K     |█████████████████████████████▊  | 1.8 MB 5.7 MB/s eta 0:00:01\r\u001b[K     |██████████████████████████████  | 1.8 MB 5.7 MB/s eta 0:00:01\r\u001b[K     |██████████████████████████████  | 1.8 MB 5.7 MB/s eta 0:00:01\r\u001b[K     |██████████████████████████████▎ | 1.8 MB 5.7 MB/s eta 0:00:01\r\u001b[K     |██████████████████████████████▌ | 1.8 MB 5.7 MB/s eta 0:00:01\r\u001b[K     |██████████████████████████████▋ | 1.8 MB 5.7 MB/s eta 0:00:01\r\u001b[K     |██████████████████████████████▉ | 1.8 MB 5.7 MB/s eta 0:00:01\r\u001b[K     |███████████████████████████████ | 1.8 MB 5.7 MB/s eta 0:00:01\r\u001b[K     |███████████████████████████████▏| 1.8 MB 5.7 MB/s eta 0:00:01\r\u001b[K     |███████████████████████████████▎| 1.8 MB 5.7 MB/s eta 0:00:01\r\u001b[K     |███████████████████████████████▌| 1.9 MB 5.7 MB/s eta 0:00:01\r\u001b[K     |███████████████████████████████▊| 1.9 MB 5.7 MB/s eta 0:00:01\r\u001b[K     |███████████████████████████████▉| 1.9 MB 5.7 MB/s eta 0:00:01\r\u001b[K     |████████████████████████████████| 1.9 MB 5.7 MB/s \n",
            "\u001b[?25hRequirement already satisfied: torchvision in /usr/local/lib/python3.7/dist-packages (from facenet-pytorch) (0.11.1+cu111)\n",
            "Requirement already satisfied: numpy in /usr/local/lib/python3.7/dist-packages (from facenet-pytorch) (1.21.5)\n",
            "Requirement already satisfied: pillow in /usr/local/lib/python3.7/dist-packages (from facenet-pytorch) (7.1.2)\n",
            "Requirement already satisfied: requests in /usr/local/lib/python3.7/dist-packages (from facenet-pytorch) (2.23.0)\n",
            "Requirement already satisfied: idna<3,>=2.5 in /usr/local/lib/python3.7/dist-packages (from requests->facenet-pytorch) (2.10)\n",
            "Requirement already satisfied: certifi>=2017.4.17 in /usr/local/lib/python3.7/dist-packages (from requests->facenet-pytorch) (2021.10.8)\n",
            "Requirement already satisfied: urllib3!=1.25.0,!=1.25.1,<1.26,>=1.21.1 in /usr/local/lib/python3.7/dist-packages (from requests->facenet-pytorch) (1.24.3)\n",
            "Requirement already satisfied: chardet<4,>=3.0.2 in /usr/local/lib/python3.7/dist-packages (from requests->facenet-pytorch) (3.0.4)\n",
            "Requirement already satisfied: torch==1.10.0 in /usr/local/lib/python3.7/dist-packages (from torchvision->facenet-pytorch) (1.10.0+cu111)\n",
            "Requirement already satisfied: typing-extensions in /usr/local/lib/python3.7/dist-packages (from torch==1.10.0->torchvision->facenet-pytorch) (3.10.0.2)\n",
            "Installing collected packages: facenet-pytorch\n",
            "Successfully installed facenet-pytorch-2.5.2\n"
          ]
        }
      ]
    },
    {
      "cell_type": "code",
      "execution_count": 2,
      "metadata": {
        "id": "5M4oJVlcToJ8"
      },
      "outputs": [],
      "source": [
        "import pickle\n",
        "import numpy as np\n",
        "import math\n",
        "import os\n",
        "import matplotlib.pyplot as plt\n",
        "import matplotlib\n",
        "import cv2 as cv\n",
        "from keras.preprocessing import image\n",
        "from scipy.spatial import distance\n",
        "from PIL import Image\n",
        "from skimage import feature\n",
        "from facenet_pytorch import MTCNN, InceptionResnetV1"
      ]
    },
    {
      "cell_type": "code",
      "source": [
        "resnet = InceptionResnetV1(pretrained='vggface2').eval()"
      ],
      "metadata": {
        "colab": {
          "base_uri": "https://localhost:8080/",
          "height": 49,
          "referenced_widgets": [
            "637e8890d85b4ef2a14e8ae5e9646fee",
            "ed2819daee78411fadbe20be6bbccf82",
            "bab8ebc958184cab9eb35e23db5cb8bc",
            "07353c917b2e47e9a8b2220a422be39b",
            "0bbf03143ffd40c9af90232d770122ee",
            "a72a290ce4d2400382c72c91fbcf4504",
            "ff8befeeca2849ca88eae2adad2cd7fe",
            "a698c67110fb422fa5118d2389b670d1",
            "64897ba4e1694cfb9eed91055feab60f",
            "67f481d6444146ea87c7c6b7e9407de5",
            "8727d95ef65b419a9cbef464658d53e4"
          ]
        },
        "id": "GIjHzuq8ULYg",
        "outputId": "29e5e24a-9b4c-42fd-ec2d-d7b9549358c4"
      },
      "execution_count": 3,
      "outputs": [
        {
          "output_type": "display_data",
          "data": {
            "text/plain": [
              "  0%|          | 0.00/107M [00:00<?, ?B/s]"
            ],
            "application/vnd.jupyter.widget-view+json": {
              "version_major": 2,
              "version_minor": 0,
              "model_id": "637e8890d85b4ef2a14e8ae5e9646fee"
            }
          },
          "metadata": {}
        }
      ]
    },
    {
      "cell_type": "code",
      "source": [
        "mtcnn = MTCNN()\n",
        "def extract_feature(img_path):\n",
        "  print(\"Extracting: \", img_path)\n",
        "  img = cv.imread(img_path)\n",
        "  img_cropped = mtcnn(img)\n",
        "  resnet.classify = True\n",
        "  img_probs = resnet(img_cropped.unsqueeze(0))\n",
        "  return img_probs.detach().numpy()"
      ],
      "metadata": {
        "id": "qUP0LPmjUUN6"
      },
      "execution_count": 29,
      "outputs": []
    },
    {
      "cell_type": "code",
      "source": [
        "vectors = []\n",
        "paths = []"
      ],
      "metadata": {
        "id": "Z3WUlRZaU4I9"
      },
      "execution_count": 30,
      "outputs": []
    },
    {
      "cell_type": "code",
      "source": [
        "for image_path in sorted(os.listdir('/content/drive/MyDrive/Dataset/faces/')):\n",
        "    # Full path of images\n",
        "    image_path_full = os.path.join('/content/drive/MyDrive/Dataset/faces/', image_path)\n",
        "    # Image's feature extraction\n",
        "    image_vector = extract_feature(image_path_full)\n",
        "    # Store features and path to list\n",
        "    vectors.append(image_vector)\n",
        "    paths.append(image_path_full)"
      ],
      "metadata": {
        "colab": {
          "base_uri": "https://localhost:8080/"
        },
        "id": "0Eg7yJXVWJ22",
        "outputId": "50289bb7-425f-40df-c9f1-183421f17876"
      },
      "execution_count": 31,
      "outputs": [
        {
          "output_type": "stream",
          "name": "stdout",
          "text": [
            "Extracting:  /content/drive/MyDrive/Dataset/faces/1.png\n",
            "Extracting:  /content/drive/MyDrive/Dataset/faces/2.png\n"
          ]
        }
      ]
    },
    {
      "cell_type": "code",
      "source": [
        "print(vectors)"
      ],
      "metadata": {
        "colab": {
          "base_uri": "https://localhost:8080/"
        },
        "id": "OF0pEGucXAuX",
        "outputId": "214df27a-3a46-49ef-b0f6-9d8e71374179"
      },
      "execution_count": 32,
      "outputs": [
        {
          "output_type": "stream",
          "name": "stdout",
          "text": [
            "[array([[ 1.2564567 , -1.2935293 , -2.9143848 , ..., -2.0143676 ,\n",
            "         2.7753696 ,  0.19155595]], dtype=float32), array([[6.575626  , 3.9226215 , 0.8791168 , ..., 0.63844573, 4.1854835 ,\n",
            "        3.6858568 ]], dtype=float32)]\n"
          ]
        }
      ]
    },
    {
      "cell_type": "code",
      "source": [
        "pickle.dump(vectors, open('face_vector.pkl', \"wb\"))"
      ],
      "metadata": {
        "id": "im39w_2PX8Or"
      },
      "execution_count": 33,
      "outputs": []
    },
    {
      "cell_type": "code",
      "source": [
        ""
      ],
      "metadata": {
        "id": "Sq9ljVzlZvUB"
      },
      "execution_count": null,
      "outputs": []
    }
  ]
}